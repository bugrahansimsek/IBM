{
 "cells": [
  {
   "cell_type": "markdown",
   "id": "13e918a4-e091-4528-b9ce-2f42cc5a4da2",
   "metadata": {},
   "source": [
    "# Data Science Tools and Ecosystem"
   ]
  },
  {
   "cell_type": "markdown",
   "id": "32d344ff-dcd8-4e5f-9bff-64747f0ee495",
   "metadata": {},
   "source": [
    "This notebook provides an overview of popular data science tools and concepts."
   ]
  },
  {
   "cell_type": "markdown",
   "id": "87b152bd-704b-4493-84de-5653590463c0",
   "metadata": {},
   "source": [
    "Some popular data science languages are:\n",
    "- Python\n",
    "- R\n",
    "- SQL\n"
   ]
  },
  {
   "cell_type": "markdown",
   "id": "0c5ce9ee-d4df-48f8-9feb-f76876ba67da",
   "metadata": {},
   "source": [
    "Commonly used data science libraries include:\n",
    "- Pandas\n",
    "- NumPy\n",
    "- Matplotlib\n"
   ]
  },
  {
   "cell_type": "markdown",
   "id": "699ff78a-a363-414f-9f4d-b7e26f5352c8",
   "metadata": {},
   "source": [
    "| Tool          | Description                      |\n",
    "|---------------|----------------------------------|\n",
    "| Jupyter       | Interactive computing platform   |\n",
    "| RStudio       | IDE for R                        |\n",
    "| TensorFlow    | Machine Learning framework       |\n"
   ]
  },
  {
   "cell_type": "markdown",
   "id": "5ceb52e0-5229-4bce-bf86-06467989688b",
   "metadata": {},
   "source": [
    "Below are examples of simple arithmetic operations."
   ]
  },
  {
   "cell_type": "code",
   "execution_count": 8,
   "id": "5f8da136-849f-42eb-b296-d2c2a859be2e",
   "metadata": {},
   "outputs": [
    {
     "data": {
      "text/plain": [
       "23"
      ]
     },
     "execution_count": 8,
     "metadata": {},
     "output_type": "execute_result"
    }
   ],
   "source": [
    "result = (5 * 4) + 3\n",
    "result"
   ]
  },
  {
   "cell_type": "code",
   "execution_count": 10,
   "id": "60facdcb-6c4d-4f87-aa24-182541fdf3d9",
   "metadata": {},
   "outputs": [
    {
     "data": {
      "text/plain": [
       "2.0"
      ]
     },
     "execution_count": 10,
     "metadata": {},
     "output_type": "execute_result"
    }
   ],
   "source": [
    "minutes = 120\n",
    "hours = minutes / 60\n",
    "hours\n"
   ]
  },
  {
   "cell_type": "markdown",
   "id": "df394b25-b8e1-4d74-b96b-26236f6b1d1b",
   "metadata": {},
   "source": [
    "Objectives:\n",
    "- List popular data science languages\n",
    "- Illustrate arithmetic operations"
   ]
  },
  {
   "cell_type": "markdown",
   "id": "625603ff-da80-4b89-be17-f4521465cca9",
   "metadata": {},
   "source": [
    "Author: Buğrahan Şimşek"
   ]
  },
  {
   "cell_type": "code",
   "execution_count": null,
   "id": "ae532d69-c73f-41b0-8037-85fede5f6832",
   "metadata": {},
   "outputs": [],
   "source": []
  }
 ],
 "metadata": {
  "kernelspec": {
   "display_name": "Python 3 (ipykernel)",
   "language": "python",
   "name": "python3"
  },
  "language_info": {
   "codemirror_mode": {
    "name": "ipython",
    "version": 3
   },
   "file_extension": ".py",
   "mimetype": "text/x-python",
   "name": "python",
   "nbconvert_exporter": "python",
   "pygments_lexer": "ipython3",
   "version": "3.12.4"
  }
 },
 "nbformat": 4,
 "nbformat_minor": 5
}
